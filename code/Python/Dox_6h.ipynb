{
 "cells": [
  {
   "cell_type": "markdown",
   "metadata": {},
   "source": [
    "### Making TIMBR predictions using RIPTIDE\n",
    "\n",
    "Only use one model and place very small constraints on lower bounds to achieve one flux distribution to make predictions for each metabolite"
   ]
  },
  {
   "cell_type": "code",
   "execution_count": 1,
   "metadata": {},
   "outputs": [],
   "source": [
    "import cobra.io\n",
    "import numpy\n",
    "from riptide import *"
   ]
  },
  {
   "cell_type": "code",
   "execution_count": 2,
   "metadata": {},
   "outputs": [],
   "source": [
    "# Change to correct directory to access data folder\n",
    "os.chdir(\"..\")\n",
    "os.chdir(\"..\")"
   ]
  },
  {
   "cell_type": "code",
   "execution_count": 3,
   "metadata": {},
   "outputs": [],
   "source": [
    "# Translated model from iCardio\n",
    "heart_model = cobra.io.load_matlab_model(\"data/iRno_heart.mat\", \n",
    "                                        variable_name = \"rno_heart_model\")\n",
    "\n",
    "# Load in original general network reconstruction\n",
    "rno_model = cobra.io.load_matlab_model(\"data/iRno_heart.mat\", \n",
    "                                      variable_name = \"rno_cobra_load\")"
   ]
  },
  {
   "cell_type": "code",
   "execution_count": 4,
   "metadata": {},
   "outputs": [],
   "source": [
    "model = heart_model\n",
    "model.objective = \"RCR11017\""
   ]
  },
  {
   "cell_type": "code",
   "execution_count": 5,
   "metadata": {},
   "outputs": [],
   "source": [
    "# Change the upper bounds of reactions from 1000 to 10e6 as was done in the TIMBR paper\n",
    "for reaction in model.reactions:\n",
    "    if reaction.upper_bound == 1000:\n",
    "        reaction.upper_bound = 10e6"
   ]
  },
  {
   "cell_type": "code",
   "execution_count": 6,
   "metadata": {},
   "outputs": [],
   "source": [
    "# Identify reactions that have an upper and lower bound of 0 in the model\n",
    "to_remove = []\n",
    "for x in model.reactions:\n",
    "    if x.lower_bound == 0 and x.upper_bound == 0:\n",
    "        to_remove.append(x)\n",
    "\n",
    "model.remove_reactions(to_remove)"
   ]
  },
  {
   "cell_type": "code",
   "execution_count": 7,
   "metadata": {},
   "outputs": [],
   "source": [
    "# Add back reactions from the iRno model to the heart model that are necessary\n",
    "# for transport reactions for media conditions\n",
    "# and transport reactions for biomarker predictions\n",
    "add_rxns = ['RCR30349', 'RCR30125', 'RCR30118', 'RCR30055', 'RCR30068', \\\n",
    "    'RCR30053', 'RCR30436', 'RCR30233', 'RCR30149', 'RCR30199', 'RCR30078', \\\n",
    "    'RCR30460', 'RCR30002', 'RCR30027', 'RCR30041', 'RCR30054', 'RCR30071', \\\n",
    "    'RCR30080', 'RCR30086', 'RCR30107', 'RCR30120', \\\n",
    "    'RCR30131', 'RCR30148', 'RCR30150', 'RCR30160', 'RCR30191', \\\n",
    "    'RCR30216', 'RCR30218', 'RCR30228', 'RCR30234', 'RCR30238', 'RCR30374', \\\n",
    "    'RCR30410', 'RCR30438', 'RCR30481', 'RCR30555','RCR30239', \\\n",
    "    'RCR90192', 'RCR90193']\n",
    "\n",
    "for x in add_rxns:\n",
    "    model.add_reaction(rno_model.reactions.get_by_id(x))"
   ]
  },
  {
   "cell_type": "code",
   "execution_count": 8,
   "metadata": {},
   "outputs": [
    {
     "name": "stdout",
     "output_type": "stream",
     "text": [
      "RCR30043 not found\n",
      "RCR30119 not found\n",
      "RCR30399 not found\n",
      "RCR30461 not found\n"
     ]
    }
   ],
   "source": [
    "# Exchange reactions that were defined based on physiological bounds in the iRno model\n",
    "exchange_rxns = ['RCR30013', 'RCR30014', 'RCR30015', 'RCR30019', 'RCR30024', \\\n",
    "                 'RCR30030', 'RCR30031', 'RCR30035', 'RCR30042', 'RCR30043', \\\n",
    "                 'RCR30045', 'RCR30095', 'RCR30106', 'RCR30110', 'RCR30116', \\\n",
    "                 'RCR30117', 'RCR30119', 'RCR30122', 'RCR30150', 'RCR30183', \\\n",
    "                 'RCR30184', 'RCR30185', 'RCR30188', 'RCR30199', 'RCR30315', \\\n",
    "                 'RCR30317', 'RCR30318', 'RCR30321', 'RCR30327', 'RCR30348', \\\n",
    "                 'RCR30349', 'RCR30399', 'RCR30461', 'RCR30527', 'RCR30528', \\\n",
    "                 'RCR30529', 'RCR30530', 'RCR30531', 'RCR30539', 'RCR90123', \\\n",
    "                 'RCR90202', 'RCR90203', 'RCR90206', 'RCR90210']\n",
    "\n",
    "# Reactions that aren't present were removed during model curation\n",
    "for x in exchange_rxns:\n",
    "    try:\n",
    "        # first change bounds on rno_model\n",
    "        model.reactions.get_by_id(x).lower_bound = 0.\n",
    "    except:\n",
    "        print(x, 'not found')"
   ]
  },
  {
   "cell_type": "code",
   "execution_count": 9,
   "metadata": {
    "scrolled": true
   },
   "outputs": [],
   "source": [
    "# Define media conditions from in vitro experiments\n",
    "# Consumed metabolites\n",
    "media_composition = {'RCR30032','RCR30349','RCR30125','RCR30106','RCR30068',\\\n",
    "                    'RCR30053','RCR30348','RCR30460',\\\n",
    "                    'RCR30211','RCR30077','RCR30311','RCR30536'}\n",
    "\n",
    "# media_composition = {'RCR30032', 'RCR30211', 'RCR30013', 'RCR30349', 'RCR30125', \\\n",
    "#     'RCR30015', 'RCR30145', 'RCR30106', 'RCR30118', 'RCR30095', \\\n",
    "#     'RCR30055', 'RCR30068', 'RCR30030', 'RCR30315', 'RCR30005', \\\n",
    "#     'RCR30321', 'RCR30116', 'RCR30053', 'RCR30077', 'RCR30527', \\\n",
    "#     'RCR30070', 'RCR30436', 'RCR30528', 'RCR30529', 'RCR30530', \\\n",
    "#     'RCR30531', 'RCR30233', 'RCR30348', 'RCR30184', 'RCR30117', \\\n",
    "#     'RCR30110', 'RCR30149', 'RCR30536', 'RCR30199', 'RCR30078', \\\n",
    "#     'RCR30042', 'RCR30317', 'RCR30072', 'RCR30318', 'RCR30031', \\\n",
    "#     'RCR30237', 'RCR30185', 'RCR30460'}\n",
    "\n",
    "for x in media_composition:\n",
    "    model.reactions.get_by_id(x).lower_bound = -10.\n",
    "    model.reactions.get_by_id(x).upper_bound = 0.\n",
    "\n",
    "# Change the lower bound \n",
    "model.reactions.get_by_id('RCR90192').lower_bound = 1\n",
    "model.reactions.get_by_id('RCR90193').lower_bound = 1"
   ]
  },
  {
   "cell_type": "code",
   "execution_count": 10,
   "metadata": {},
   "outputs": [],
   "source": [
    "# noChange = {'RCR30160','RCR30015','RCR30145',\\\n",
    "#             'RCR30228','RCR30041',\\\n",
    "#             'RCR30311','RCR30142','RCR30118', \\\n",
    "#             'RCR30095','RCR30055','RCR30030','RCR30148','RCR30315',\\\n",
    "#             'RCR30321','RCR30027','RCR30116','RCR30527',\\\n",
    "#             'RCR30528','RCR30239','RCR30529','RCR30530','RCR30438',\\\n",
    "#             'RCR30071','RCR30120','RCR30531',\\\n",
    "#             'RCR30436','RCR30233','RCR30019','RCR30010','RCR30184',\\\n",
    "#             'RCR30117',\\\n",
    "#             'RCR30234','RCR30374','RCR30149','RCR30199',\\\n",
    "#             'RCR30078','RCR30042',\\\n",
    "#             'RCR30322','RCR30150','RCR30317','RCR30072','RCR30318',\\\n",
    "#             'RCR30031','RCR30237','RCR30185'}\n",
    "# for x in noChange:\n",
    "#     model.reactions.get_by_id(x).bounds = (0.,0.)\n",
    "\n",
    "# print(model.optimize().objective_value)"
   ]
  },
  {
   "cell_type": "code",
   "execution_count": 11,
   "metadata": {},
   "outputs": [
    {
     "name": "stdout",
     "output_type": "stream",
     "text": [
      "87\n"
     ]
    }
   ],
   "source": [
    "# identify set of metabolites that can be produced given the media constraints\n",
    "# Create a set of the exchange reactions in the model\n",
    "exchanges = set()\n",
    "for reaction in model.boundary:\n",
    "    if reaction.bounds != (0., 0.):\n",
    "        exchanges.add(reaction.name)\n",
    "        \n",
    "# remove metabolites in the media since placing a lower bound on production\n",
    "exchanges = exchanges - media_composition\n",
    "\n",
    "# Run an FBA for each metabolite in exchange set\n",
    "# Include metabolite if FBA > 1e-4\n",
    "predictions = set()\n",
    "for reaction in exchanges: \n",
    "    model.objective = reaction\n",
    "    if model.optimize().objective_value > 1:\n",
    "        predictions.add(reaction)\n",
    "\n",
    "# Number of metabolites for predictions drops to 84 when excluding media metabolites\n",
    "print(len(predictions))"
   ]
  },
  {
   "cell_type": "code",
   "execution_count": 12,
   "metadata": {},
   "outputs": [
    {
     "name": "stdout",
     "output_type": "stream",
     "text": [
      "23\n",
      "13\n",
      "700.2946017069704\n"
     ]
    }
   ],
   "source": [
    "produced = {'RCR30191','RCR30086','RCR30218','RCR30013',\\\n",
    "            'RCR30033','RCR30014','RCR30107','RCR30016',\\\n",
    "            'RCR30216','RCR30410','RCR30005','RCR30002',\\\n",
    "            'RCR30070','RCR30054','RCR30024',\\\n",
    "            'RCR30188','RCR30481','RCR30533',\\\n",
    "            'RCR30110',\\\n",
    "            'RCR30555','RCR30080','RCR30131','RCR30238'}\n",
    "\n",
    "print(len(produced))\n",
    "print(len(list(predictions & produced)))\n",
    "\n",
    "produced = list(predictions & produced)\n",
    "for x in produced:\n",
    "    model.reactions.get_by_id(x).lower_bound = 1\n",
    "model.objective = \"RCR11017\"\n",
    "print(model.optimize().objective_value)"
   ]
  },
  {
   "cell_type": "code",
   "execution_count": 13,
   "metadata": {},
   "outputs": [
    {
     "name": "stdout",
     "output_type": "stream",
     "text": [
      "0.0\n",
      "1660.983030116855\n"
     ]
    }
   ],
   "source": [
    "# Load in data for individual conditions: \n",
    "# 5FU_24: sample1-sample6\n",
    "# 5FU_6: sample7-sample12\n",
    "# Ace_24: sample13-sample19\n",
    "# Ace_6: sample20-sample25\n",
    "# DMSO1_24: sample26-sample31\n",
    "# DMSO1_6: sample32 - sample37\n",
    "# DMSO2_24: sample38 - sample44\n",
    "# DMSO2_6: sample45 - sample51\n",
    "# Dox_24: sample52 - sample58\n",
    "# Dox_6: sample59 - sample65\n",
    "\n",
    "fiveFU_6 = {}\n",
    "fiveFU_24 = {}\n",
    "ace_6 = {}\n",
    "ace_24 = {}\n",
    "dmso1_6 = {}\n",
    "dmso1_24 = {}\n",
    "dmso2_6 = {}\n",
    "dmso2_24 = {}\n",
    "dox_24 = {}\n",
    "dox_6 = {}\n",
    "with open('data/RNA-seq/scaledTPMs.txt', 'r') as transcription:\n",
    "    for line in transcription:\n",
    "        line = line.split()\n",
    "        if line[0].strip('\"') == 'NAME':\n",
    "            continue\n",
    "        else:\n",
    "            fiveFU_24[line[0].strip('\"')] = numpy.median([numpy.float(x) for x in line[2:8]])\n",
    "            fiveFU_6[line[0].strip('\"')] = numpy.median([numpy.float(x) for x in line[8:14]])\n",
    "            ace_24[line[0].strip('\"')] = numpy.median([numpy.float(x) for x in line[14:21]])\n",
    "            ace_6[line[0].strip('\"')] = numpy.median([numpy.float(x) for x in line[21:27]])\n",
    "            dmso1_24[line[0].strip('\"')] = numpy.median([numpy.float(x) for x in line[27:33]])\n",
    "            dmso1_6[line[0].strip('\"')] = numpy.median([numpy.float(x) for x in line[33:39]])\n",
    "            dmso2_24[line[0].strip('\"')] = numpy.median([numpy.float(x) for x in line[39:46]])\n",
    "            dmso2_6[line[0].strip('\"')] = numpy.median([numpy.float(x) for x in line[46:53]])\n",
    "            dox_24[line[0].strip('\"')] = numpy.median([numpy.float(x) for x in line[53:60]])\n",
    "            dox_6[line[0].strip('\"')] = numpy.median([numpy.float(x) for x in line[60:67]])\n",
    "\n",
    "# print an example to make sure medians are correct\n",
    "print(fiveFU_24.get(\"24152\"))\n",
    "print(fiveFU_24.get(\"24170\"))"
   ]
  },
  {
   "cell_type": "code",
   "execution_count": 14,
   "metadata": {},
   "outputs": [
    {
     "name": "stdout",
     "output_type": "stream",
     "text": [
      "100.0\n"
     ]
    }
   ],
   "source": [
    "# Ensure that the model can still produce a feasible flux distribution\n",
    "model.objective = \"RCR11017\"\n",
    "model.reactions.get_by_id(\"RCR11017\").bounds = (0.,100.)\n",
    "print(model.optimize().objective_value)"
   ]
  },
  {
   "cell_type": "code",
   "execution_count": 15,
   "metadata": {
    "scrolled": true
   },
   "outputs": [
    {
     "name": "stdout",
     "output_type": "stream",
     "text": [
      "\n",
      "Initializing model and integrating transcriptomic data...\n",
      "Pruning zero flux subnetworks...\n",
      "Analyzing context-specific flux distributions...\n",
      "\n",
      "Reactions pruned to 190 from 4249 (95.53% change)\n",
      "Metabolites pruned to 191 from 2920 (93.46% change)\n",
      "Context-specific metabolism correlates with transcriptome (r=0.366, p<0.001 *)\n",
      "\n",
      "RIPTiDe completed in, 2 minutes and 19 seconds \n",
      "\n",
      "WARNING: Output path already exists, overwriting previous files\n"
     ]
    }
   ],
   "source": [
    "data = riptide.contextualize(model, fraction = 0.9, samples = 100, transcriptome = dox_6)\n",
    "riptide.save_output(data, path = \"data/RIPTIDE/dox_6h\")"
   ]
  },
  {
   "cell_type": "code",
   "execution_count": null,
   "metadata": {},
   "outputs": [],
   "source": []
  }
 ],
 "metadata": {
  "kernelspec": {
   "display_name": "Python 3",
   "language": "python",
   "name": "python3"
  },
  "language_info": {
   "codemirror_mode": {
    "name": "ipython",
    "version": 3
   },
   "file_extension": ".py",
   "mimetype": "text/x-python",
   "name": "python",
   "nbconvert_exporter": "python",
   "pygments_lexer": "ipython3",
   "version": "3.6.12"
  }
 },
 "nbformat": 4,
 "nbformat_minor": 2
}
